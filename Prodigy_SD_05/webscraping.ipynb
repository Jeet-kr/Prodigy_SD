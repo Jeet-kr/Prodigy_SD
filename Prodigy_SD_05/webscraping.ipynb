{
 "cells": [
  {
   "cell_type": "code",
   "execution_count": 17,
   "metadata": {},
   "outputs": [
    {
     "name": "stdout",
     "output_type": "stream",
     "text": [
      "25\n",
      "Data has been written to CSV file: movie_data.csv\n"
     ]
    }
   ],
   "source": [
    "from bs4 import BeautifulSoup\n",
    "from selenium import webdriver\n",
    "import requests\n",
    "import csv\n",
    "\n",
    "url = 'https://www.imdb.com/chart/top/'\n",
    "\n",
    "headers = {'User-Agent': 'Mozilla/5.0 (Windows NT 10.0; Win64; x64) AppleWebKit/537.36 (KHTML, like Gecko) Chrome/114.0.0.0 Safari/537.36'}\n",
    "\n",
    "response = requests.get(url, headers=headers)\n",
    "\n",
    "soup = BeautifulSoup(response.content, 'html.parser')\n",
    "\n",
    "movies = soup.find_all('li', class_='ipc-metadata-list-summary-item sc-10233bc-0 TwzGn cli-parent')\n",
    "\n",
    "print(len(movies))\n",
    "\n",
    "csv_filename = 'movie_data.csv'\n",
    "\n",
    "with open(csv_filename, mode='w', newline='', encoding='utf-8-sig') as file:\n",
    "    writer = csv.writer(file)\n",
    "\n",
    "    header = ['Rank', 'Name', 'Year', 'Rating']\n",
    "    writer.writerow(header)\n",
    "\n",
    "    for movie in movies:\n",
    "        name = movie.find('div', class_='ipc-title ipc-title--base ipc-title--title ipc-title-link-no-icon ipc-title--on-textPrimary sc-b189961a-9 bnSrml cli-title').a.text.split('.')[1]\n",
    "        rank = movie.find('div', class_='ipc-title ipc-title--base ipc-title--title ipc-title-link-no-icon ipc-title--on-textPrimary sc-b189961a-9 bnSrml cli-title').a.text.split('.')[0]\n",
    "        year = movie.find('div', class_='sc-b189961a-7 btCcOY cli-title-metadata').span.text\n",
    "        rating = movie.find('div', class_='sc-e2dbc1a3-0 jeHPdh sc-b189961a-2 bglYHz cli-ratings-container').span.text\n",
    "\n",
    "        writer.writerow([rank, name, year, rating])\n",
    "\n",
    "    print(\"Data has been written to CSV file:\", csv_filename)\n",
    "    "
   ]
  }
 ],
 "metadata": {
  "kernelspec": {
   "display_name": "Python 3",
   "language": "python",
   "name": "python3"
  },
  "language_info": {
   "codemirror_mode": {
    "name": "ipython",
    "version": 3
   },
   "file_extension": ".py",
   "mimetype": "text/x-python",
   "name": "python",
   "nbconvert_exporter": "python",
   "pygments_lexer": "ipython3",
   "version": "3.12.4"
  }
 },
 "nbformat": 4,
 "nbformat_minor": 2
}
